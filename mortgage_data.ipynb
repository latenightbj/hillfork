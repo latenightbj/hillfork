{
 "cells": [
  {
   "cell_type": "markdown",
   "id": "2c17e5a2-e9d8-48d2-8fc0-e6089874fea7",
   "metadata": {},
   "source": [
    "# Mortgage Data in Hillsborough County "
   ]
  },
  {
   "cell_type": "code",
   "execution_count": null,
   "id": "00b39279-dc1d-4177-9112-f86e0a82e58c",
   "metadata": {},
   "outputs": [],
   "source": []
  }
 ],
 "metadata": {
  "kernelspec": {
   "display_name": "Python 3 (ipykernel)",
   "language": "python",
   "name": "python3"
  },
  "language_info": {
   "codemirror_mode": {
    "name": "ipython",
    "version": 3
   },
   "file_extension": ".py",
   "mimetype": "text/x-python",
   "name": "python",
   "nbconvert_exporter": "python",
   "pygments_lexer": "ipython3",
   "version": "3.9.1"
  }
 },
 "nbformat": 4,
 "nbformat_minor": 5
}
